{
 "cells": [
  {
   "cell_type": "code",
   "execution_count": null,
   "id": "46a27aaa-4693-4777-98a3-e7930ae8c17f",
   "metadata": {},
   "outputs": [],
   "source": []
  }
 ],
 "metadata": {
  "kernelspec": {
   "display_name": "",
   "name": ""
  },
  "language_info": {
   "name": ""
  }
 },
 "nbformat": 4,
 "nbformat_minor": 5
}
