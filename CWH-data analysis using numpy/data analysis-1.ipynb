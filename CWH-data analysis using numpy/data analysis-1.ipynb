{
 "cells": [
  {
   "cell_type": "code",
   "execution_count": 1,
   "id": "4e1f4407-595b-497e-b40b-713ec0f77272",
   "metadata": {},
   "outputs": [
    {
     "name": "stdout",
     "output_type": "stream",
     "text": [
      "data analysis using numpy\n"
     ]
    }
   ],
   "source": [
    "print(\"data analysis using numpy\")"
   ]
  },
  {
   "cell_type": "code",
   "execution_count": 6,
   "id": "e6481740-6b37-45ee-8a7a-f787894a729f",
   "metadata": {},
   "outputs": [
    {
     "name": "stdout",
     "output_type": "stream",
     "text": [
      "0.03778696060180664\n"
     ]
    }
   ],
   "source": [
    "import numpy as np\n",
    "import time\n",
    "\n"
   ]
  },
  {
   "cell_type": "code",
   "execution_count": 12,
   "id": "1fe7002c-4827-4e02-86e1-69298512ba97",
   "metadata": {},
   "outputs": [
    {
     "name": "stdout",
     "output_type": "stream",
     "text": [
      "[0, 2, 4, 6, 8, 10, 12, 14, 16, 18]\n",
      "0.038027048110961914\n"
     ]
    }
   ],
   "source": [
    "#using python list\n",
    "size=1_000_000\n",
    "l1=list(range(size))\n",
    "l2=list(range(size))\n",
    "\n",
    "start=time.time()\n",
    "\n",
    "add=[x+y for x,y in zip(l1,l2)]\n",
    "end=time.time()\n",
    "print(add[0:10])\n",
    "print(end-start)\n"
   ]
  },
  {
   "cell_type": "code",
   "execution_count": 13,
   "id": "421d1fa9-642c-466f-a937-7c5242b63215",
   "metadata": {},
   "outputs": [
    {
     "name": "stdout",
     "output_type": "stream",
     "text": [
      "[ 0  2  4  6  8 10 12 14 16 18]\n",
      "0.013579130172729492\n"
     ]
    }
   ],
   "source": [
    "# using numpy array\n",
    "size=1_000_000\n",
    "l1=np.array(list(range(size)))\n",
    "l2=np.array(list(range(size)))\n",
    "\n",
    "start=time.time()\n",
    "add=l1+l2\n",
    "end=time.time()\n",
    "print(add[0:10])\n",
    "\n",
    "print(end-start)\n"
   ]
  },
  {
   "cell_type": "code",
   "execution_count": 15,
   "id": "3cb95550-a978-414d-95be-9876eb6e4437",
   "metadata": {},
   "outputs": [],
   "source": [
    "arr=np.array([[1,2,3,4,5],[6,7,8,9,10]])"
   ]
  },
  {
   "cell_type": "code",
   "execution_count": 16,
   "id": "13301527-a4a3-46d0-9088-3d85d43cf149",
   "metadata": {},
   "outputs": [
    {
     "name": "stdout",
     "output_type": "stream",
     "text": [
      "[[ 1  2  3  4  5]\n",
      " [ 6  7  8  9 10]]\n"
     ]
    }
   ],
   "source": [
    "print(arr)"
   ]
  },
  {
   "cell_type": "code",
   "execution_count": 17,
   "id": "af0af236-7985-4136-8d0c-8142da8cea2b",
   "metadata": {},
   "outputs": [
    {
     "data": {
      "text/plain": [
       "numpy.ndarray"
      ]
     },
     "execution_count": 17,
     "metadata": {},
     "output_type": "execute_result"
    }
   ],
   "source": [
    "type(arr)"
   ]
  },
  {
   "cell_type": "code",
   "execution_count": 18,
   "id": "d56fdc86-4151-4074-a54e-67656f113930",
   "metadata": {},
   "outputs": [
    {
     "name": "stdout",
     "output_type": "stream",
     "text": [
      "<class 'numpy.ndarray'>\n"
     ]
    }
   ],
   "source": [
    "print(type(arr))"
   ]
  },
  {
   "cell_type": "code",
   "execution_count": 19,
   "id": "ce559633-c481-4998-9104-6fa6b322d724",
   "metadata": {},
   "outputs": [
    {
     "data": {
      "text/plain": [
       "(2, 5)"
      ]
     },
     "execution_count": 19,
     "metadata": {},
     "output_type": "execute_result"
    }
   ],
   "source": [
    "arr.shape"
   ]
  },
  {
   "cell_type": "code",
   "execution_count": 23,
   "id": "fb947176-2bac-4dfd-988d-f3fb653d9c4e",
   "metadata": {},
   "outputs": [
    {
     "name": "stdout",
     "output_type": "stream",
     "text": [
      "python list size 8056000 bytes\n",
      "numpy array size: 8000 bytes\n"
     ]
    }
   ],
   "source": [
    "import sys\n",
    "list_data=list(range(1000))\n",
    "numpy_data=np.array(list_data)\n",
    "print('python list size', sys.getsizeof(list_data)*len(list_data), 'bytes')\n",
    "print('numpy array size:', numpy_data.nbytes, 'bytes')"
   ]
  },
  {
   "cell_type": "code",
   "execution_count": null,
   "id": "e102bb39-793b-4b4a-ae46-03134806b3b0",
   "metadata": {},
   "outputs": [],
   "source": []
  },
  {
   "cell_type": "code",
   "execution_count": 27,
   "id": "18697d0c-b1ea-4eed-8196-c5ce4b878b37",
   "metadata": {},
   "outputs": [
    {
     "name": "stdout",
     "output_type": "stream",
     "text": [
      "0.01321721076965332\n"
     ]
    }
   ],
   "source": [
    "l5=list(range(100000))\n",
    "\n",
    "start=time.time()\n",
    "list_squares=[i**2 for i in l5]\n",
    "end=time.time()\n",
    "print(end-start)"
   ]
  },
  {
   "cell_type": "code",
   "execution_count": 28,
   "id": "746e5e41-22dc-48f2-99e8-b4c87efdf1a5",
   "metadata": {},
   "outputs": [
    {
     "name": "stdout",
     "output_type": "stream",
     "text": [
      "0.0011489391326904297\n"
     ]
    }
   ],
   "source": [
    "l6=np.arange(100000)\n",
    "\n",
    "start=time.time()\n",
    "l6**2\n",
    "end=time.time()\n",
    "print(end-start)"
   ]
  },
  {
   "cell_type": "code",
   "execution_count": 1,
   "id": "2d4513ef-422a-4b20-ad38-c6878ac7dd7d",
   "metadata": {},
   "outputs": [
    {
     "ename": "NameError",
     "evalue": "name 'np' is not defined",
     "output_type": "error",
     "traceback": [
      "\u001b[31m---------------------------------------------------------------------------\u001b[39m",
      "\u001b[31mNameError\u001b[39m                                 Traceback (most recent call last)",
      "\u001b[36mCell\u001b[39m\u001b[36m \u001b[39m\u001b[32mIn[1]\u001b[39m\u001b[32m, line 1\u001b[39m\n\u001b[32m----> \u001b[39m\u001b[32m1\u001b[39m myarr= \u001b[43mnp\u001b[49m.array([[\u001b[32m1\u001b[39m,\u001b[32m2\u001b[39m,\u001b[32m3\u001b[39m], [\u001b[32m4\u001b[39m,\u001b[32m5\u001b[39m,\u001b[32m6\u001b[39m],[\u001b[32m9\u001b[39m,\u001b[32m10\u001b[39m,\u001b[32m22\u001b[39m]])\n",
      "\u001b[31mNameError\u001b[39m: name 'np' is not defined"
     ]
    }
   ],
   "source": [
    "myarr= np.array([[1,2,3], [4,5,6],[9,10,22]])"
   ]
  },
  {
   "cell_type": "code",
   "execution_count": null,
   "id": "bf525e87-b627-429b-99d1-20db5f95ce41",
   "metadata": {},
   "outputs": [],
   "source": []
  }
 ],
 "metadata": {
  "kernelspec": {
   "display_name": "Python 3 (ipykernel)",
   "language": "python",
   "name": "python3"
  },
  "language_info": {
   "codemirror_mode": {
    "name": "ipython",
    "version": 3
   },
   "file_extension": ".py",
   "mimetype": "text/x-python",
   "name": "python",
   "nbconvert_exporter": "python",
   "pygments_lexer": "ipython3",
   "version": "3.13.5"
  }
 },
 "nbformat": 4,
 "nbformat_minor": 5
}
