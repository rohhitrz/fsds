{
 "cells": [
  {
   "cell_type": "code",
   "execution_count": 1,
   "id": "7591dfbe-b12f-4ae0-9cdc-bdbe28af33ba",
   "metadata": {},
   "outputs": [],
   "source": [
    "import numpy as np\n",
    "import scipy.stats as stats"
   ]
  },
  {
   "cell_type": "code",
   "execution_count": 5,
   "id": "7e6c0f5a-82ec-4350-98ab-8eb22d78b8b1",
   "metadata": {},
   "outputs": [
    {
     "name": "stdout",
     "output_type": "stream",
     "text": [
      "30.0\n",
      "4.894437128029217e-06\n",
      "4\n",
      "[[33.33333333 33.33333333 33.33333333]\n",
      " [33.33333333 33.33333333 33.33333333]\n",
      " [33.33333333 33.33333333 33.33333333]]\n"
     ]
    }
   ],
   "source": [
    "observed_data=np.array([[50,30,20],\n",
    "                      [30,40,30],\n",
    "                      [20,30,50]])\n",
    "\n",
    "#perform the chi square test\n",
    "\n",
    "chi2_stats_value,p_value,df,expected=stats.chi2_contingency(observed_data)\n",
    "\n",
    "print(chi2_stats_value)\n",
    "print(p_value)\n",
    "print(df)\n",
    "print(expected)"
   ]
  },
  {
   "cell_type": "code",
   "execution_count": 8,
   "id": "99be3a71-5b5d-41c4-a115-1a641efd5dc3",
   "metadata": {},
   "outputs": [
    {
     "name": "stdout",
     "output_type": "stream",
     "text": [
      "failed to reject the hypothesis\n"
     ]
    }
   ],
   "source": [
    "alpha=0.05\n",
    "if(p_value<alpha):\n",
    "    print('reject the null hypothesis')\n",
    "else:\n",
    "    print('failed to reject the hypothesis')"
   ]
  },
  {
   "cell_type": "code",
   "execution_count": null,
   "id": "fe50fbac-ca4a-414c-ada8-ca5be830e8ba",
   "metadata": {},
   "outputs": [],
   "source": []
  }
 ],
 "metadata": {
  "kernelspec": {
   "display_name": "Python 3 (ipykernel)",
   "language": "python",
   "name": "python3"
  },
  "language_info": {
   "codemirror_mode": {
    "name": "ipython",
    "version": 3
   },
   "file_extension": ".py",
   "mimetype": "text/x-python",
   "name": "python",
   "nbconvert_exporter": "python",
   "pygments_lexer": "ipython3",
   "version": "3.13.5"
  }
 },
 "nbformat": 4,
 "nbformat_minor": 5
}
