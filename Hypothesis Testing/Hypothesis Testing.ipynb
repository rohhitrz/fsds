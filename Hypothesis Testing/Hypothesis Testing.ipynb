{
 "cells": [
  {
   "cell_type": "code",
   "execution_count": 3,
   "id": "f8f4c5b0-f4c1-44a1-8a7f-3868714412f2",
   "metadata": {},
   "outputs": [
    {
     "name": "stdout",
     "output_type": "stream",
     "text": [
      "0.18242243945173575\n"
     ]
    }
   ],
   "source": [
    "from scipy.stats import  norm\n",
    "\n",
    "population_mean=800\n",
    "sample_mean=790\n",
    "standard_error=7.5\n",
    "alpha=0.05\n",
    "\n",
    "z_score=(sample_mean-population_mean)/standard_error\n",
    "\n",
    "p_value=2* norm.cdf(z_score) \n",
    "print(p_value)\n"
   ]
  },
  {
   "cell_type": "code",
   "execution_count": 4,
   "id": "7d4ced6a-87b8-4f4a-8a12-cc5438e4568f",
   "metadata": {},
   "outputs": [
    {
     "name": "stdout",
     "output_type": "stream",
     "text": [
      "failed to reject the null hypothesis\n"
     ]
    }
   ],
   "source": [
    "if(p_value>alpha):\n",
    "    print('failed to reject the null hypothesis')\n",
    "else:\n",
    "    print('null hypotheis rejected')"
   ]
  },
  {
   "cell_type": "markdown",
   "id": "bdbef63a-1c0f-4bde-85ac-05440b9d1191",
   "metadata": {},
   "source": [
    "###  A nutrition company claims that their protein bar contains 20g of protein on average.We took a sample of 40bars and find that average protein content is 18.8 grams. the standard error(SE) for this 0.8gram"
   ]
  },
  {
   "cell_type": "code",
   "execution_count": 10,
   "id": "07f20940-9e83-472e-9a9b-8ba4428ff1b7",
   "metadata": {},
   "outputs": [
    {
     "name": "stdout",
     "output_type": "stream",
     "text": [
      "0.1336144025377163\n",
      "failed to reject the null hypothesis\n"
     ]
    }
   ],
   "source": [
    "from scipy.stats import  norm\n",
    "\n",
    "population_mean=20\n",
    "sample_mean=18.8\n",
    "standard_error=0.8\n",
    "alpha=0.05\n",
    "\n",
    "z_score=(sample_mean-population_mean)/standard_error\n",
    "\n",
    "p_value= 2* norm.cdf(z_score) \n",
    "print(p_value)\n",
    "\n",
    "if(p_value>alpha):\n",
    "    print('failed to reject the null hypothesis')\n",
    "else:\n",
    "    print('null hypotheis rejected')\n"
   ]
  },
  {
   "cell_type": "markdown",
   "id": "a78a880e-d124-4e43-9532-5e5f674d544e",
   "metadata": {},
   "source": [
    "You work for a company that produces three types of energy drinks. The company wants to know if the average caffeine content differs significantly among these three types. You collect data on the caffeine content (in milligrams) from five samples of each drink:\n",
    "\n",
    "Energy Drink A: 105 mg, 110 mg, 98 mg, 107 mg, 103 mg\n",
    "\n",
    "Energy Drink B: 130 mg, 125 mg, 132 mg, 128 mg, 129 mg\n",
    "\n",
    "Energy Drink C: 120 mg, 115 mg, 117 mg, 119 mg, 121 mg\n",
    "\n",
    "Question: Is there a statistically significant difference in the average caffeine content between these three types of energy drinks?"
   ]
  },
  {
   "cell_type": "code",
   "execution_count": 1,
   "id": "2936f3de-ec82-478b-a172-fab5d8bb6676",
   "metadata": {},
   "outputs": [
    {
     "name": "stdout",
     "output_type": "stream",
     "text": [
      "Reject the null hypothesis meaning there is a significant difference in the average caffeine content of the above three energy drinks.\n"
     ]
    }
   ],
   "source": [
    "import scipy.stats as stats\n",
    "\n",
    "group_A = [105, 110, 98, 107, 103]\n",
    "group_B = [130, 125, 132, 128, 129]\n",
    "group_C = [120, 115, 117, 119, 121]\n",
    "\n",
    "alpha = 0.05\n",
    "\n",
    "f_value, p_value = stats.f_oneway(group_A, group_B, group_C)\n",
    "\n",
    "if alpha < p_value:\n",
    "  print('Fail to reject the null hypothesis meaning there is no significant difference in the average caffeine content of the above three energy drinks')\n",
    "else:\n",
    "  print('Reject the null hypothesis meaning there is a significant difference in the average caffeine content of the above three energy drinks.')"
   ]
  },
  {
   "cell_type": "code",
   "execution_count": 2,
   "id": "69702f7c-580b-492c-9095-7939cff72339",
   "metadata": {},
   "outputs": [
    {
     "name": "stdout",
     "output_type": "stream",
     "text": [
      "2.984427460719471e-07\n"
     ]
    }
   ],
   "source": [
    "print(p_value)"
   ]
  },
  {
   "cell_type": "code",
   "execution_count": 3,
   "id": "cdd955f0-322a-4902-a001-05b3616827e8",
   "metadata": {},
   "outputs": [
    {
     "name": "stdout",
     "output_type": "stream",
     "text": [
      "67.39634146341461\n"
     ]
    }
   ],
   "source": [
    "print(f_value)"
   ]
  },
  {
   "cell_type": "code",
   "execution_count": null,
   "id": "dd0e5caf-c464-42b9-9d81-428a5d13eb1c",
   "metadata": {},
   "outputs": [],
   "source": []
  }
 ],
 "metadata": {
  "kernelspec": {
   "display_name": "Python 3 (ipykernel)",
   "language": "python",
   "name": "python3"
  },
  "language_info": {
   "codemirror_mode": {
    "name": "ipython",
    "version": 3
   },
   "file_extension": ".py",
   "mimetype": "text/x-python",
   "name": "python",
   "nbconvert_exporter": "python",
   "pygments_lexer": "ipython3",
   "version": "3.13.5"
  }
 },
 "nbformat": 4,
 "nbformat_minor": 5
}
