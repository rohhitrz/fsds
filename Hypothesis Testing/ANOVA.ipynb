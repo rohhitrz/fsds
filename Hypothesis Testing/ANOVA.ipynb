{
 "cells": [
  {
   "cell_type": "markdown",
   "id": "d3e47bcc-44cb-48fe-a489-3ed2043b3cf6",
   "metadata": {},
   "source": [
    "Scenario: A nutrition company claims that their protein bars contain 20 grams of protein on average. You take a sample of 40 bars and find that the average protein content is 18.8 grams. The standard error (SE) for this sample is 0.8 grams."
   ]
  },
  {
   "cell_type": "markdown",
   "id": "07f42aa8-ee7a-4451-a73d-8446a2c13c98",
   "metadata": {},
   "source": [
    "You work for a company that produces three types of energy drinks. The company wants to know if the average caffeine content differs significantly among these three types. You collect data on the caffeine content (in milligrams) from five samples of each drink:\n",
    "\n",
    "Energy Drink A: 105 mg, 110 mg, 98 mg, 107 mg, 103 mg\n",
    "\n",
    "Energy Drink B: 130 mg, 125 mg, 132 mg, 128 mg, 129 mg\n",
    "\n",
    "Energy Drink C: 120 mg, 115 mg, 117 mg, 119 mg, 121 mg\n",
    "\n",
    "Question: Is there a statistically significant difference in the average caffeine content between these three types of energy drinks?"
   ]
  },
  {
   "cell_type": "code",
   "execution_count": 2,
   "id": "978a80ea-585e-4b43-9b96-3176cf236336",
   "metadata": {},
   "outputs": [],
   "source": [
    "import scipy.stats as stats"
   ]
  },
  {
   "cell_type": "code",
   "execution_count": 7,
   "id": "413256bf-7c3a-4cb9-a695-1ce1cb85ab7d",
   "metadata": {},
   "outputs": [
    {
     "name": "stdout",
     "output_type": "stream",
     "text": [
      "we will reject the null hypothesis\n"
     ]
    }
   ],
   "source": [
    "group_A=[105,110,98,107,103]\n",
    "group_B=[130,125,132,128,129]\n",
    "group_C=[120,115,117,119,121]\n",
    "alpha=0.05\n",
    "\n",
    "f_value,p_value=stats.f_oneway(group_A,group_B,group_C)\n",
    "\n",
    "if(p_value>alpha):\n",
    "    print('Fail to reject the null hypothesis')\n",
    "else:\n",
    "    print('we will reject the null hypothesis')\n"
   ]
  },
  {
   "cell_type": "code",
   "execution_count": 8,
   "id": "3cf75e8b-6fd0-4d8c-b95c-85a47ac46db7",
   "metadata": {},
   "outputs": [
    {
     "name": "stdout",
     "output_type": "stream",
     "text": [
      "67.39634146341461\n"
     ]
    }
   ],
   "source": [
    "print(f_value)"
   ]
  },
  {
   "cell_type": "code",
   "execution_count": 9,
   "id": "251a292f-59d1-40c6-ac40-9d25baa859ee",
   "metadata": {},
   "outputs": [
    {
     "name": "stdout",
     "output_type": "stream",
     "text": [
      "2.984427460719471e-07\n"
     ]
    }
   ],
   "source": [
    "print(p_value)"
   ]
  },
  {
   "cell_type": "code",
   "execution_count": null,
   "id": "049b2a19-7af7-49f0-975e-652170451885",
   "metadata": {},
   "outputs": [],
   "source": []
  }
 ],
 "metadata": {
  "kernelspec": {
   "display_name": "Python 3 (ipykernel)",
   "language": "python",
   "name": "python3"
  },
  "language_info": {
   "codemirror_mode": {
    "name": "ipython",
    "version": 3
   },
   "file_extension": ".py",
   "mimetype": "text/x-python",
   "name": "python",
   "nbconvert_exporter": "python",
   "pygments_lexer": "ipython3",
   "version": "3.13.5"
  }
 },
 "nbformat": 4,
 "nbformat_minor": 5
}
