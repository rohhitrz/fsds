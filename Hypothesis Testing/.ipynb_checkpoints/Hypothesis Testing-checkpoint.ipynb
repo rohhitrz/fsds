{
 "cells": [
  {
   "cell_type": "code",
   "execution_count": 3,
   "id": "f8f4c5b0-f4c1-44a1-8a7f-3868714412f2",
   "metadata": {},
   "outputs": [
    {
     "name": "stdout",
     "output_type": "stream",
     "text": [
      "0.18242243945173575\n"
     ]
    }
   ],
   "source": [
    "from scipy.stats import  norm\n",
    "\n",
    "population_mean=800\n",
    "sample_mean=790\n",
    "standard_error=7.5\n",
    "alpha=0.05\n",
    "\n",
    "z_score=(sample_mean-population_mean)/standard_error\n",
    "\n",
    "p_value=2* norm.cdf(z_score) \n",
    "print(p_value)\n"
   ]
  },
  {
   "cell_type": "code",
   "execution_count": 4,
   "id": "7d4ced6a-87b8-4f4a-8a12-cc5438e4568f",
   "metadata": {},
   "outputs": [
    {
     "name": "stdout",
     "output_type": "stream",
     "text": [
      "failed to reject the null hypothesis\n"
     ]
    }
   ],
   "source": [
    "if(p_value>alpha):\n",
    "    print('failed to reject the null hypothesis')\n",
    "else:\n",
    "    print('null hypotheis rejected')"
   ]
  },
  {
   "cell_type": "markdown",
   "id": "bdbef63a-1c0f-4bde-85ac-05440b9d1191",
   "metadata": {},
   "source": [
    "###  A nutrition company claims that their protein bar contains 20g of protein on average.We took a sample of 40bars and find that average protein content is 18.8 grams. the standard error(SE) for this 0.8gram"
   ]
  },
  {
   "cell_type": "code",
   "execution_count": 10,
   "id": "07f20940-9e83-472e-9a9b-8ba4428ff1b7",
   "metadata": {},
   "outputs": [
    {
     "name": "stdout",
     "output_type": "stream",
     "text": [
      "0.1336144025377163\n",
      "failed to reject the null hypothesis\n"
     ]
    }
   ],
   "source": [
    "from scipy.stats import  norm\n",
    "\n",
    "population_mean=20\n",
    "sample_mean=18.8\n",
    "standard_error=0.8\n",
    "alpha=0.05\n",
    "\n",
    "z_score=(sample_mean-population_mean)/standard_error\n",
    "\n",
    "p_value= 2* norm.cdf(z_score) \n",
    "print(p_value)\n",
    "\n",
    "if(p_value>alpha):\n",
    "    print('failed to reject the null hypothesis')\n",
    "else:\n",
    "    print('null hypotheis rejected')\n"
   ]
  },
  {
   "cell_type": "code",
   "execution_count": null,
   "id": "14c32ebd-b50a-4d93-b7c2-bf3bcda50124",
   "metadata": {},
   "outputs": [],
   "source": []
  },
  {
   "cell_type": "code",
   "execution_count": null,
   "id": "2936f3de-ec82-478b-a172-fab5d8bb6676",
   "metadata": {},
   "outputs": [],
   "source": []
  }
 ],
 "metadata": {
  "kernelspec": {
   "display_name": "Python 3 (ipykernel)",
   "language": "python",
   "name": "python3"
  },
  "language_info": {
   "codemirror_mode": {
    "name": "ipython",
    "version": 3
   },
   "file_extension": ".py",
   "mimetype": "text/x-python",
   "name": "python",
   "nbconvert_exporter": "python",
   "pygments_lexer": "ipython3",
   "version": "3.13.5"
  }
 },
 "nbformat": 4,
 "nbformat_minor": 5
}
