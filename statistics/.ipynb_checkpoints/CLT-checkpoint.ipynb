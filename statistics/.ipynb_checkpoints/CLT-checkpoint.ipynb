{
 "cells": [
  {
   "cell_type": "code",
   "execution_count": 6,
   "id": "8ed97f55-9a97-45d3-b846-569297ba91f3",
   "metadata": {},
   "outputs": [],
   "source": [
    "import pandas as pd\n",
    "import numpy as np\n",
    "import matplotlib.pyplot as plt\n",
    "import seaborn as sns\n",
    "import statistics\n"
   ]
  },
  {
   "cell_type": "markdown",
   "id": "01102bc3-8d9c-48b7-aedb-8b0e4186cca6",
   "metadata": {},
   "source": [
    "data=pd.read_excel('./fraud_data_lyst1751134022071.xlsx')\n",
    "data.head()"
   ]
  },
  {
   "cell_type": "code",
   "execution_count": 4,
   "id": "904ae2e8-06fc-4279-b851-0af6af1be826",
   "metadata": {},
   "outputs": [
    {
     "data": {
      "text/plain": [
       "(14446, 15)"
      ]
     },
     "execution_count": 4,
     "metadata": {},
     "output_type": "execute_result"
    }
   ],
   "source": [
    "data.shape"
   ]
  },
  {
   "cell_type": "code",
   "execution_count": 13,
   "id": "e7bc2ea7-f63b-414b-8513-562c7751ed97",
   "metadata": {},
   "outputs": [
    {
     "name": "stdout",
     "output_type": "stream",
     "text": [
      "124.43007337671327\n"
     ]
    }
   ],
   "source": [
    "population_mean=data['amt'].mean()\n",
    "print(population_mean)\n"
   ]
  },
  {
   "cell_type": "markdown",
   "id": "ae43d6c9-2637-49ba-9c1b-c016aeeb3aad",
   "metadata": {},
   "source": [
    "# sample mean"
   ]
  },
  {
   "cell_type": "code",
   "execution_count": 35,
   "id": "51272293-6455-4a04-b888-717205661677",
   "metadata": {},
   "outputs": [
    {
     "name": "stdout",
     "output_type": "stream",
     "text": [
      "119.54582999999998\n"
     ]
    }
   ],
   "source": [
    "sample=data['amt'].sample(n=1000,random_state=42)\n",
    "print(sample.mean())"
   ]
  },
  {
   "cell_type": "markdown",
   "id": "2ef2a98a-c4d0-45b8-8413-d8678dd970d3",
   "metadata": {},
   "source": [
    "# Impact of sample size on sample mean\n"
   ]
  },
  {
   "cell_type": "code",
   "execution_count": 37,
   "id": "55cd6833-648e-4784-92bb-c97cbec789d0",
   "metadata": {},
   "outputs": [
    {
     "name": "stdout",
     "output_type": "stream",
     "text": [
      "91.59525\n",
      "87.425875\n",
      "81.8355\n",
      "110.90326666666668\n",
      "107.9096\n",
      "119.54582999999998\n",
      "123.99536800000001\n",
      "126.52721\n"
     ]
    }
   ],
   "source": [
    "sample_sizes=[40,80,100,300,400,1000,5000,7000]\n",
    "\n",
    "for i in sample_sizes:\n",
    "    sample=data['amt'].sample(n=i,random_state=42)\n",
    "    print(sample.mean())"
   ]
  },
  {
   "cell_type": "markdown",
   "id": "6b53a030-ca72-441b-a94e-75fee3e99440",
   "metadata": {},
   "source": [
    "# Impact of sample size on sample mean- second method\n"
   ]
  },
  {
   "cell_type": "code",
   "execution_count": 41,
   "id": "bb2e9f3d-ebee-4cee-8ef4-e4528b42c5f0",
   "metadata": {},
   "outputs": [
    {
     "name": "stdout",
     "output_type": "stream",
     "text": [
      "sample size: 40, sample mean: 91.59525\n",
      "sample size: 80, sample mean: 87.425875\n",
      "sample size: 100, sample mean: 81.8355\n",
      "sample size: 300, sample mean: 110.90326666666668\n",
      "sample size: 400, sample mean: 107.9096\n",
      "sample size: 1000, sample mean: 119.54582999999998\n",
      "sample size: 5000, sample mean: 123.99536800000001\n",
      "sample size: 7000, sample mean: 126.52721\n"
     ]
    }
   ],
   "source": [
    "sample_sizes=[40,80,100,300,400,1000,5000,7000]\n",
    "sample_means=[data['amt'].sample(n=size,random_state=42).mean() for size in sample_sizes]\n",
    "\n",
    "for size,mean in zip(sample_sizes,sample_means):\n",
    "    print(f\"sample size: {size}, sample mean: {mean}\")\n",
    "    "
   ]
  },
  {
   "cell_type": "markdown",
   "id": "c74af747-d721-4364-8226-60b2296c9621",
   "metadata": {},
   "source": [
    "# Impact of size on sample mean: as the sample size increses, the sample mean becomes a better estimator of population mean.This is one of key ideas of central limit theorem"
   ]
  },
  {
   "cell_type": "code",
   "execution_count": null,
   "id": "d06ecbd9-bb17-4d49-b145-f079014b2640",
   "metadata": {},
   "outputs": [],
   "source": [
    "def visualize_clt(data,sample_size,num_samples):\n",
    "    sample_means=[np.mean(np.random.choice(data,size=sample_size) for _ in range(num_samples))]\n",
    "    sns.histplot(sample_means,bins=30,edgecolor='black')\n",
    "    plt.xtitle(f'sample_size:'{sample_size}, number )"
   ]
  }
 ],
 "metadata": {
  "kernelspec": {
   "display_name": "Python 3 (ipykernel)",
   "language": "python",
   "name": "python3"
  },
  "language_info": {
   "codemirror_mode": {
    "name": "ipython",
    "version": 3
   },
   "file_extension": ".py",
   "mimetype": "text/x-python",
   "name": "python",
   "nbconvert_exporter": "python",
   "pygments_lexer": "ipython3",
   "version": "3.13.5"
  }
 },
 "nbformat": 4,
 "nbformat_minor": 5
}
